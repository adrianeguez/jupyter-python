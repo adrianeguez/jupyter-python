{
 "cells": [
  {
   "cell_type": "code",
   "execution_count": 1,
   "metadata": {},
   "outputs": [],
   "source": [
    "import numpy as np"
   ]
  },
  {
   "cell_type": "code",
   "execution_count": 5,
   "metadata": {},
   "outputs": [],
   "source": [
    "frutas = np.array(['Pera','Manzana','Banano','Mango','Piña'])"
   ]
  },
  {
   "cell_type": "code",
   "execution_count": 7,
   "metadata": {},
   "outputs": [
    {
     "name": "stdout",
     "output_type": "stream",
     "text": [
      "['Pera' 'Manzana' 'Banano' 'Mango' 'Piña']\n",
      "['Pera' 'Manzana' 'Banano' 'Mango' 'Piña']\n"
     ]
    }
   ],
   "source": [
    "cesta_uno = frutas.view()\n",
    "cesta_dos = frutas.view()\n",
    "print(cesta_uno)\n",
    "print(cesta_dos)"
   ]
  },
  {
   "cell_type": "code",
   "execution_count": 9,
   "metadata": {},
   "outputs": [
    {
     "name": "stdout",
     "output_type": "stream",
     "text": [
      "2765725845904\n",
      "2765725846944\n",
      "2765725846144\n"
     ]
    }
   ],
   "source": [
    "print(id(frutas))\n",
    "print(id(cesta_uno))\n",
    "print(id(cesta_dos))"
   ]
  },
  {
   "cell_type": "code",
   "execution_count": 13,
   "metadata": {},
   "outputs": [
    {
     "name": "stdout",
     "output_type": "stream",
     "text": [
      "False\n",
      "False\n",
      "True\n",
      "True\n"
     ]
    }
   ],
   "source": [
    "print(cesta_uno is frutas)\n",
    "print(cesta_dos is frutas)\n",
    "print(cesta_uno.base is frutas)  # Base object es el arreglo de frutas\n",
    "print(cesta_dos.base is frutas)  # Base object es el arreglo de frutas"
   ]
  },
  {
   "cell_type": "code",
   "execution_count": 20,
   "metadata": {},
   "outputs": [
    {
     "name": "stdout",
     "output_type": "stream",
     "text": [
      "['Frutill' 'Manzana' 'Banano' 'Mango' 'Piña']\n",
      "['Frutill' 'Manzana' 'Banano' 'Mango' 'Piña']\n",
      "['Frutill' 'Manzana' 'Banano' 'Mango' 'Piña']\n"
     ]
    }
   ],
   "source": [
    "frutas = np.array(['Pera','Manzana','Banano','Mango','Piña'])\n",
    "cesta_uno = frutas.view()\n",
    "cesta_dos = frutas.view()\n",
    "\n",
    "cesta_uno[0]= 'Frutillaaass'  # El valor mas grande en el arreglo original es de 7 elementos, por eso se corta la palabra\n",
    "print(cesta_uno) \n",
    "print(frutas) \n",
    "print(cesta_dos)  # Se actualizaron todos los arreglos"
   ]
  },
  {
   "cell_type": "code",
   "execution_count": 26,
   "metadata": {},
   "outputs": [
    {
     "name": "stdout",
     "output_type": "stream",
     "text": [
      "['Pera' 'Manzana' 'Banano' 'Mango' 'Piña' 'Melon']\n",
      "['Coco' 'Mora' 'Mortiño' 'Limon']\n",
      "[['Pera' 'Manzana']\n",
      " ['Banano' 'Mango']\n",
      " ['Piña' 'Melon']]\n",
      "['Pera' 'Manzana' 'Banano' 'Mango' 'Piña' 'Melon']\n"
     ]
    }
   ],
   "source": [
    "frutas = np.array(['Pera','Manzana','Banano','Mango','Piña','Melon'])\n",
    "cesta_uno = frutas.view()\n",
    "cesta_dos = frutas.view()\n",
    "\n",
    "cesta_uno = np.array(['Coco','Mora','Mortiño','Limon'])\n",
    "print(cesta_dos)\n",
    "print(cesta_uno)\n",
    "cesta_dos.shape = 3,2\n",
    "print(cesta_dos)\n",
    "print(frutas)"
   ]
  },
  {
   "cell_type": "code",
   "execution_count": 28,
   "metadata": {},
   "outputs": [
    {
     "name": "stdout",
     "output_type": "stream",
     "text": [
      "False\n",
      "False\n",
      "['Papaya' 'Manzana' 'Banano' 'Mango' 'Piña' 'Melon']\n",
      "['Pera' 'Manzana' 'Banano' 'Mango' 'Piña' 'Melon']\n"
     ]
    }
   ],
   "source": [
    "cesta_tres = frutas.copy()\n",
    "print(cesta_tres is frutas)\n",
    "print(cesta_tres.base is frutas)\n",
    "cesta_tres[0] = 'Papaya'\n",
    "print(cesta_tres)\n",
    "print(frutas)"
   ]
  },
  {
   "cell_type": "code",
   "execution_count": null,
   "metadata": {},
   "outputs": [],
   "source": []
  }
 ],
 "metadata": {
  "kernelspec": {
   "display_name": "Python 3",
   "language": "python",
   "name": "python3"
  },
  "language_info": {
   "codemirror_mode": {
    "name": "ipython",
    "version": 3
   },
   "file_extension": ".py",
   "mimetype": "text/x-python",
   "name": "python",
   "nbconvert_exporter": "python",
   "pygments_lexer": "ipython3",
   "version": "3.7.0"
  }
 },
 "nbformat": 4,
 "nbformat_minor": 2
}
