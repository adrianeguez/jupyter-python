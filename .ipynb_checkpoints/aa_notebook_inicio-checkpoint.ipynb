{
 "cells": [
  {
   "cell_type": "code",
   "execution_count": 1,
   "metadata": {},
   "outputs": [
    {
     "name": "stdout",
     "output_type": "stream",
     "text": [
      "Hello World\n"
     ]
    }
   ],
   "source": [
    "print(\"Hello World\")"
   ]
  },
  {
   "cell_type": "markdown",
   "metadata": {},
   "source": [
    "# Hola"
   ]
  },
  {
   "cell_type": "code",
   "execution_count": 4,
   "metadata": {},
   "outputs": [],
   "source": [
    "from matplotlib import pyplot as plt\n",
    "import numpy as np"
   ]
  },
  {
   "cell_type": "code",
   "execution_count": 40,
   "metadata": {},
   "outputs": [
    {
     "name": "stdout",
     "output_type": "stream",
     "text": [
      "[1 2 3]\n",
      "[[0. 0. 0. 0.]\n",
      " [0. 0. 0. 0.]\n",
      " [0. 0. 0. 0.]]\n",
      "[[1 1 1 1]\n",
      " [1 1 1 1]\n",
      " [1 1 1 1]]\n",
      "[[0. 0. 0. 0.]\n",
      " [0. 0. 0. 0.]\n",
      " [0. 0. 0. 0.]]\n",
      "[[1. 0. 0. 0. 0. 0. 0.]\n",
      " [0. 1. 0. 0. 0. 0. 0.]\n",
      " [0. 0. 1. 0. 0. 0. 0.]\n",
      " [0. 0. 0. 1. 0. 0. 0.]\n",
      " [0. 0. 0. 0. 1. 0. 0.]\n",
      " [0. 0. 0. 0. 0. 1. 0.]\n",
      " [0. 0. 0. 0. 0. 0. 1.]]\n",
      "[ 3  6  9 12 15 18 21 24 27 30 33 36 39 42 45 48]\n"
     ]
    },
    {
     "data": {
      "text/plain": [
       "array([[   0,    1,    2, ...,   97,   98,   99],\n",
       "       [ 100,  101,  102, ...,  197,  198,  199],\n",
       "       [ 200,  201,  202, ...,  297,  298,  299],\n",
       "       ...,\n",
       "       [9700, 9701, 9702, ..., 9797, 9798, 9799],\n",
       "       [9800, 9801, 9802, ..., 9897, 9898, 9899],\n",
       "       [9900, 9901, 9902, ..., 9997, 9998, 9999]])"
      ]
     },
     "execution_count": 40,
     "metadata": {},
     "output_type": "execute_result"
    }
   ],
   "source": [
    "print(np.array([1,2,3]))\n",
    "print(np.zeros((3,4)))\n",
    "print(np.ones((3,4),  dtype=np.int16))\n",
    "print(np.empty((3,4)))\n",
    "print(np.eye(7))\n",
    "print(np.arange(3,50,3))\n",
    "np.array([(1,2,3),(4,5,6)]).shape\n",
    "np.arange(6).reshape(3,2)\n",
    "np.ones_like(np.arange(6).reshape(3,2))\n",
    "np.arange(24).reshape(2,3,4)\n",
    "np.arange(10000)\n",
    "np.set_printoptions(threshold = 100)\n",
    "np.arange(10000).reshape(100,100)"
   ]
  },
  {
   "cell_type": "code",
   "execution_count": 60,
   "metadata": {},
   "outputs": [
    {
     "name": "stdout",
     "output_type": "stream",
     "text": [
      "[15 15 15]\n",
      "[5 5 5]\n",
      "[50 50 50]\n",
      "[1 1 1]\n",
      "[ True  True  True]\n"
     ]
    }
   ],
   "source": [
    "a = np.array([10,10,10])\n",
    "b = np.array([5,5,5])\n",
    "print(a + b)\n",
    "print(a - b)\n",
    "print(a * b)\n",
    "print(a % 3)\n",
    "print(a < 15)"
   ]
  },
  {
   "cell_type": "code",
   "execution_count": 53,
   "metadata": {},
   "outputs": [
    {
     "name": "stdout",
     "output_type": "stream",
     "text": [
      "A\n",
      " [[0 1]\n",
      " [2 3]]\n",
      "B\n",
      " [[4 5]\n",
      " [6 7]]\n"
     ]
    },
    {
     "data": {
      "text/plain": [
       "array([[ 0,  5],\n",
       "       [12, 21]])"
      ]
     },
     "execution_count": 53,
     "metadata": {},
     "output_type": "execute_result"
    }
   ],
   "source": [
    "A = np.array([[0,1],[2,3]])\n",
    "print('A\\n', A)\n",
    "B = np.array([[4,5],[6,7]])\n",
    "print('B\\n', B)\n",
    "A * B"
   ]
  },
  {
   "cell_type": "code",
   "execution_count": 54,
   "metadata": {},
   "outputs": [
    {
     "name": "stdout",
     "output_type": "stream",
     "text": [
      "A:\n",
      " [[0 1]\n",
      " [2 3]]\n",
      "B:\n",
      " [[4 5]\n",
      " [6 7]]\n"
     ]
    },
    {
     "data": {
      "text/plain": [
       "array([[ 6,  7],\n",
       "       [26, 31]])"
      ]
     },
     "execution_count": 54,
     "metadata": {},
     "output_type": "execute_result"
    }
   ],
   "source": [
    "print('A:\\n', A)\n",
    "print('B:\\n', B)\n",
    "A.dot(B)"
   ]
  },
  {
   "cell_type": "code",
   "execution_count": 61,
   "metadata": {},
   "outputs": [
    {
     "data": {
      "text/plain": [
       "array([30, 30, 30])"
      ]
     },
     "execution_count": 61,
     "metadata": {},
     "output_type": "execute_result"
    }
   ],
   "source": [
    "a *= 3\n",
    "a"
   ]
  },
  {
   "cell_type": "code",
   "execution_count": 65,
   "metadata": {},
   "outputs": [
    {
     "name": "stdout",
     "output_type": "stream",
     "text": [
      "55\n",
      "1\n",
      "10\n"
     ]
    }
   ],
   "source": [
    "arreglo_numeros = np.array([1,2,3,4,5,6,7,8,9,10])\n",
    "print(arreglo_numeros.sum())\n",
    "print(arreglo_numeros.min())\n",
    "print(arreglo_numeros.max())"
   ]
  },
  {
   "cell_type": "code",
   "execution_count": 76,
   "metadata": {},
   "outputs": [
    {
     "name": "stdout",
     "output_type": "stream",
     "text": [
      "[[ 0  1  2  3]\n",
      " [ 4  5  6  7]\n",
      " [ 8  9 10 11]]\n",
      "[12 15 18 21]\n",
      "[ 6 22 38]\n"
     ]
    }
   ],
   "source": [
    "numeros = np.arange(12).reshape(3,4)\n",
    "print(numeros)\n",
    "print(numeros.sum(axis=0)) # X\n",
    "print(numeros.sum(axis=1)) # Y"
   ]
  },
  {
   "cell_type": "code",
   "execution_count": 91,
   "metadata": {},
   "outputs": [
    {
     "name": "stdout",
     "output_type": "stream",
     "text": [
      "[ 0 30 45 60 90]\n",
      "[0.         0.52359878 0.78539816 1.04719755 1.57079633]\n"
     ]
    }
   ],
   "source": [
    "angulos = np.array([0,30,45,60,90])\n",
    "print(angulos)\n",
    "angulos_en_radianes = angulos * np.pi/180\n",
    "print(angulos_en_radianes)"
   ]
  },
  {
   "cell_type": "code",
   "execution_count": 92,
   "metadata": {},
   "outputs": [
    {
     "name": "stdout",
     "output_type": "stream",
     "text": [
      "[0.         0.5        0.70710678 0.8660254  1.        ]\n",
      "[ 0. 30. 45. 60. 90.]\n"
     ]
    }
   ],
   "source": [
    "angulos = np.array([0,30,45,60,90])\n",
    "angulos_en_radianes = angulos * np.pi/180\n",
    "# Funcion seno() en los angulos del arreglo\n",
    "print(np.sin(angulos_en_radianes))\n",
    "print(np.degrees(angulos_en_radianes))"
   ]
  },
  {
   "cell_type": "code",
   "execution_count": 90,
   "metadata": {},
   "outputs": [
    {
     "name": "stdout",
     "output_type": "stream",
     "text": [
      "[ 1.          0.15425145  0.52532199 -0.95241298 -0.44807362]\n",
      "[0.         0.52359878 0.78539816 1.04719755 1.57079633]\n"
     ]
    }
   ],
   "source": [
    "angulos_dos = np.array([0,30,45,60,90])\n",
    "\n",
    "# Funcion coseno() en los angulos del arreglo\n",
    "print(np.cos(angulos_dos))\n",
    "print(np.radians(angulos_dos))"
   ]
  },
  {
   "cell_type": "code",
   "execution_count": 100,
   "metadata": {},
   "outputs": [
    {
     "name": "stdout",
     "output_type": "stream",
     "text": [
      "[[ 1.  2.  3.  4.  5.  6.  7.  8.  9. 10. 11. 12. 13. 14. 15.]\n",
      " [15. 14. 13. 12. 11. 10.  9.  8.  7.  6.  5.  4.  3.  2.  1.]]\n",
      "(2, 15)\n"
     ]
    }
   ],
   "source": [
    "salarios = np.genfromtxt('data/salaries.csv', delimiter=',')\n",
    "print(salarios)\n",
    "print(salarios.shape)"
   ]
  },
  {
   "cell_type": "code",
   "execution_count": 99,
   "metadata": {},
   "outputs": [
    {
     "name": "stdout",
     "output_type": "stream",
     "text": [
      "[1 2 3]\n",
      "(3,)\n",
      "[[1 2]\n",
      " [2 3]\n",
      " [3 4]]\n",
      "(3, 2)\n"
     ]
    }
   ],
   "source": [
    "arreglo_una_d =  np.array([1,2,3])\n",
    "print(arreglo_una_d)\n",
    "print(arreglo_una_d.shape)\n",
    "arreglo_dos_d =  np.array([[1,2],[2,3],[3,4]])\n",
    "print(arreglo_dos_d)\n",
    "print(arreglo_dos_d.shape)"
   ]
  },
  {
   "cell_type": "code",
   "execution_count": 95,
   "metadata": {},
   "outputs": [
    {
     "name": "stdout",
     "output_type": "stream",
     "text": [
      "6.0\n"
     ]
    }
   ],
   "source": [
    "notas = np.array([1,3,5,7,6,5,3,4,6,7,8,3,1,5,6,8,9,10,10,6,5,6,7,8,9])\n",
    "print(np.median(notas))"
   ]
  },
  {
   "cell_type": "code",
   "execution_count": 115,
   "metadata": {},
   "outputs": [
    {
     "name": "stdout",
     "output_type": "stream",
     "text": [
      "[  0   1   4   9  16  25  36  49  64  81 100]\n",
      "0\n",
      "[0 1 4]\n",
      "81\n",
      "[ 4  9 16 25 36 49]\n",
      "[64 81]\n",
      "[  4   9  16  25  36  49  64  81 100]\n",
      "[0 1 4 9]\n",
      "[ 4 36]\n",
      "[100  81  64  49  36  25  16   9   4   1   0]\n"
     ]
    }
   ],
   "source": [
    "arreglo_al_cuadrado = np.arange(11)**2\n",
    "print(arreglo_al_cuadrado)\n",
    "print(arreglo_al_cuadrado[0])\n",
    "print(arreglo_al_cuadrado[0:3])\n",
    "print(arreglo_al_cuadrado[-2])\n",
    "print(arreglo_al_cuadrado[2:-3])\n",
    "print(arreglo_al_cuadrado[-3:-1])\n",
    "print(arreglo_al_cuadrado[2:])\n",
    "print(arreglo_al_cuadrado[:4])\n",
    "print(arreglo_al_cuadrado[2:8:4]) # Pasos de 4 en 4  desde el 2 hasta el 8\n",
    "print(arreglo_al_cuadrado[::-1]) # De atras para adelante"
   ]
  },
  {
   "cell_type": "code",
   "execution_count": 128,
   "metadata": {},
   "outputs": [
    {
     "data": {
      "text/plain": [
       "array(['5', '6', '7', '8'], dtype='<U7')"
      ]
     },
     "execution_count": 128,
     "metadata": {},
     "output_type": "execute_result"
    }
   ],
   "source": [
    "estudiantes = np.array([['Adrian','Vicente','Eguez','Sarzosa'],\n",
    "                      [1,2,3,4],\n",
    "                      [5,6,7,8]])\n",
    "estudiantes[0]\n",
    "estudiantes[1]\n",
    "estudiantes[1,2]\n",
    "estudiantes[0:2,2:4]\n",
    "estudiantes[:,1:2]\n",
    "estudiantes[-1,:]"
   ]
  },
  {
   "cell_type": "code",
   "execution_count": 135,
   "metadata": {},
   "outputs": [
    {
     "name": "stdout",
     "output_type": "stream",
     "text": [
      "Dimension uno: ['Adrian' 'Vicente' 'Eguez' 'Sarzosa']\n",
      "Dimension uno: ['1' '2' '3' '4']\n",
      "Dimension uno: ['5' '6' '7' '8']\n",
      "Todos en una dimension: Adrian\n",
      "Todos en una dimension: 1\n",
      "Todos en una dimension: 5\n",
      "Todos en una dimension: Vicente\n",
      "Todos en una dimension: 2\n",
      "Todos en una dimension: 6\n",
      "Todos en una dimension: Eguez\n",
      "Todos en una dimension: 3\n",
      "Todos en una dimension: 7\n",
      "Todos en una dimension: Sarzosa\n",
      "Todos en una dimension: 4\n",
      "Todos en una dimension: 8\n"
     ]
    }
   ],
   "source": [
    "estudiantes = np.array([['Adrian','Vicente','Eguez','Sarzosa'],\n",
    "                      [1,2,3,4],\n",
    "                      [5,6,7,8]])\n",
    "for i in estudiantes:\n",
    "    print(f\"Dimension uno: {i}\")\n",
    "\n",
    "for i in estudiantes.flatten(order='F'):\n",
    "    print(f\"Todos en una dimension: {i}\")"
   ]
  },
  {
   "cell_type": "code",
   "execution_count": 144,
   "metadata": {},
   "outputs": [
    {
     "name": "stdout",
     "output_type": "stream",
     "text": [
      "[[ 0  1  2  3]\n",
      " [ 4  5  6  7]\n",
      " [ 8  9 10 11]]\n",
      "0\n",
      "1\n",
      "2\n",
      "3\n",
      "4\n",
      "5\n",
      "6\n",
      "7\n",
      "8\n",
      "9\n",
      "10\n",
      "11\n",
      "0\n",
      "4\n",
      "8\n",
      "1\n",
      "5\n",
      "9\n",
      "2\n",
      "6\n",
      "10\n",
      "3\n",
      "7\n",
      "11\n",
      "[0 4 8]\n",
      "[1 5 9]\n",
      "[ 2  6 10]\n",
      "[ 3  7 11]\n"
     ]
    },
    {
     "data": {
      "text/plain": [
       "array([[  0,   1,   4,   9],\n",
       "       [ 16,  25,  36,  49],\n",
       "       [ 64,  81, 100, 121]])"
      ]
     },
     "execution_count": 144,
     "metadata": {},
     "output_type": "execute_result"
    }
   ],
   "source": [
    "arreglo_tres_cuatro = np.arange(12).reshape(3,4)\n",
    "print(arreglo_tres_cuatro)\n",
    "for i in np.nditer(arreglo_tres_cuatro):\n",
    "    print(i)\n",
    "for i in np.nditer(arreglo_tres_cuatro, order='F'):\n",
    "    print(i)\n",
    "for i in np.nditer(arreglo_tres_cuatro, order='F', flags = ['external_loop']):\n",
    "    print(i)\n",
    "#  for i in np.nditer(arreglo_tres_cuatro):  # ReadOnly\n",
    "#      i[...] = i*i\n",
    "for i in np.nditer(arreglo_tres_cuatro, op_flags = ['readwrite']):  # ReadOnly\n",
    "    i[...] = i*i\n",
    "arreglo_tres_cuatro"
   ]
  },
  {
   "cell_type": "code",
   "execution_count": 157,
   "metadata": {},
   "outputs": [
    {
     "name": "stdout",
     "output_type": "stream",
     "text": [
      "[['Ecuador' 'USA' 'Cuba' 'Venezuela']\n",
      " ['Brazil' 'China' 'Japon' 'Mexico']]\n",
      "(2, 4)\n",
      "['Ecuador' 'USA' 'Cuba' 'Venezuela' 'Brazil' 'China' 'Japon' 'Mexico']\n",
      "[['Ecuador' 'Brazil']\n",
      " ['USA' 'China']\n",
      " ['Cuba' 'Japon']\n",
      " ['Venezuela' 'Mexico']]\n",
      "['Ecuador' 'Brazil' 'USA' 'China' 'Cuba' 'Japon' 'Venezuela' 'Mexico']\n",
      "[['Ecuador' 'USA']\n",
      " ['Cuba' 'Venezuela']\n",
      " ['Brazil' 'China']\n",
      " ['Japon' 'Mexico']]\n",
      "['Ecuador' 'USA' 'Cuba' 'Venezuela' 'Brazil' 'China']\n",
      "[['Ecuador' 'USA' 'Cuba']\n",
      " ['Venezuela' 'Brazil' 'China']]\n",
      "[['Ecuador' 'USA' 'Cuba']\n",
      " ['Venezuela' 'Brazil' 'China']]\n"
     ]
    }
   ],
   "source": [
    "paises_tuplas = np.array([('Ecuador','USA','Cuba','Venezuela'),\n",
    "              ('Brazil','China','Japon','Mexico')])\n",
    "print(paises_tuplas)\n",
    "print(paises_tuplas.shape)\n",
    "print(paises_tuplas.flatten())  # 1D Array\n",
    "print(paises_tuplas.T)  # Transposes Matrix\n",
    "print(paises_tuplas.T.flatten())  # 1D Array\n",
    "print(paises_tuplas.reshape(4,2))  # 1D Array\n",
    "paises = np.array(['Ecuador','USA','Cuba','Venezuela','Brazil','China'])\n",
    "print(paises)\n",
    "print(paises.reshape(-1,3))  # -1 significa queno se el numero de esa dimension\n",
    "print(paises.reshape(2,-1))  # -1 significa queno se el numero de esa dimension"
   ]
  },
  {
   "cell_type": "code",
   "execution_count": 164,
   "metadata": {},
   "outputs": [
    {
     "name": "stdout",
     "output_type": "stream",
     "text": [
      "[array([1, 2, 3, 4, 5, 6]), array([ 7,  8,  9, 10, 11, 12])]\n",
      "[array([1, 2, 3, 4]), array([5, 6, 7, 8]), array([ 9, 10, 11, 12])]\n",
      "[array([1, 2, 3]), array([4, 5, 6]), array([7, 8, 9]), array([10, 11, 12])]\n",
      "[array([1, 2]), array([3]), array([4, 5]), array([6, 7, 8]), array([9]), array([10, 11, 12])]\n"
     ]
    }
   ],
   "source": [
    "arreglo_split = np.array([1,2,3,4,5,6,7,8,9,10,11,12])\n",
    "print(np.split(arreglo_split,2))\n",
    "print(np.split(arreglo_split,3))\n",
    "print(np.split(arreglo_split,4))\n",
    "#  print(np.split(arreglo_split,5)) ## Error\n",
    "print(np.split(arreglo_split,[2,3,5,8,9]))"
   ]
  },
  {
   "cell_type": "code",
   "execution_count": 185,
   "metadata": {},
   "outputs": [
    {
     "name": "stdout",
     "output_type": "stream",
     "text": [
      "[array(['Ecuador', 'USA', 'Cuba'], dtype='<U9'), array(['Venezuela', 'Brazil', 'China'], dtype='<U9')]\n",
      "[array(['Ecuador', 'USA'], dtype='<U9'), array(['Cuba', 'Venezuela'], dtype='<U9'), array(['Brazil', 'China'], dtype='<U9')]\n",
      "[array(['Ecuador'], dtype='<U9'), array(['USA'], dtype='<U9'), array(['Cuba'], dtype='<U9'), array(['Venezuela'], dtype='<U9'), array(['Brazil'], dtype='<U9'), array(['China'], dtype='<U9')]\n",
      "*******************************************\n",
      "\n",
      "\n",
      "\n",
      "\n",
      "\n",
      "*******************************************\n",
      "[['Ecuador' 'USA' 'Cuba' 'Venezuela']\n",
      " ['Brazil' 'China' 'Japon' 'Mexico']]\n",
      "[['Ecuador']\n",
      " ['Brazil']]\n",
      "[['USA']\n",
      " ['China']]\n",
      "[['Cuba']\n",
      " ['Japon']]\n",
      "[['Venezuela']\n",
      " ['Mexico']]\n"
     ]
    }
   ],
   "source": [
    "paises = np.array(['Ecuador','USA','Cuba','Venezuela','Brazil','China'])\n",
    "print(np.hsplit(paises,2))\n",
    "print(np.hsplit(paises,3))\n",
    "print(np.hsplit(paises,6))\n",
    "# print(np.hsplit(paises,4))  # Error\n",
    "print('*******************************************\\n\\n\\n\\n\\n')\n",
    "\n",
    "print('*******************************************')\n",
    "paises_tuplas = np.array([('Ecuador','USA','Cuba','Venezuela'),\n",
    "              ('Brazil','China','Japon','Mexico')])\n",
    "print(paises_tuplas)\n",
    "xa, xb, xc, xd = np.hsplit(paises_tuplas,4)\n",
    "print(xa)\n",
    "print(xb)\n",
    "print(xc)\n",
    "print(xd)\n"
   ]
  },
  {
   "cell_type": "code",
   "execution_count": 192,
   "metadata": {},
   "outputs": [
    {
     "name": "stdout",
     "output_type": "stream",
     "text": [
      "[['Ecuador']\n",
      " ['USA']\n",
      " ['Cuba']\n",
      " ['Venezuela']\n",
      " ['Brazil']\n",
      " ['China']]\n"
     ]
    },
    {
     "data": {
      "text/plain": [
       "[array([['Ecuador'],\n",
       "        ['USA']], dtype='<U9'), array([['Cuba'],\n",
       "        ['Venezuela']], dtype='<U9'), array([['Brazil'],\n",
       "        ['China']], dtype='<U9')]"
      ]
     },
     "execution_count": 192,
     "metadata": {},
     "output_type": "execute_result"
    }
   ],
   "source": [
    "paises_tres_dos = np.array(['Ecuador','USA','Cuba','Venezuela','Brazil','China']).reshape(6,1)\n",
    "print(paises_tres_dos)\n",
    "np.vsplit(paises_tres_dos,3)"
   ]
  },
  {
   "cell_type": "code",
   "execution_count": 112,
   "metadata": {
    "scrolled": true
   },
   "outputs": [
    {
     "data": {
      "image/png": "[encoded data removed]",
      "text/plain": [
       "<Figure size 432x288 with 1 Axes>"
      ]
     },
     "metadata": {
      "needs_background": "light"
     },
     "output_type": "display_data"
    }
   ],
   "source": [
    "pedro = {\n",
    "    'tallas': np.array([1,2,8]),\n",
    "    'anios': np.array([1,4,9])\n",
    "}\n",
    "\n",
    "juan = {\n",
    "    'tallas':np.array([3,4,7]),\n",
    "    'anios':np.array([1,6,7])\n",
    "}\n",
    "\n",
    "plt.title('Medida de altura por anio')\n",
    "plt.xlabel('Talla')\n",
    "plt.ylabel('Anios')\n",
    "plt.plot(pedro['tallas'], pedro['anios'] ,label='Pedro')\n",
    "plt.plot(juan['tallas'],juan['anios'],label='Juan Carlos')\n",
    "plt.legend()\n",
    "plt.show()"
   ]
  },
  {
   "cell_type": "code",
   "execution_count": null,
   "metadata": {},
   "outputs": [],
   "source": []
  },
  {
   "cell_type": "code",
   "execution_count": null,
   "metadata": {},
   "outputs": [],
   "source": []
  },
  {
   "cell_type": "code",
   "execution_count": null,
   "metadata": {},
   "outputs": [],
   "source": []
  },
  {
   "cell_type": "code",
   "execution_count": null,
   "metadata": {},
   "outputs": [],
   "source": []
  },
  {
   "cell_type": "code",
   "execution_count": null,
   "metadata": {},
   "outputs": [],
   "source": []
  },
  {
   "cell_type": "code",
   "execution_count": null,
   "metadata": {},
   "outputs": [],
   "source": []
  },
  {
   "cell_type": "code",
   "execution_count": null,
   "metadata": {},
   "outputs": [],
   "source": []
  },
  {
   "cell_type": "code",
   "execution_count": null,
   "metadata": {},
   "outputs": [],
   "source": []
  },
  {
   "cell_type": "code",
   "execution_count": null,
   "metadata": {},
   "outputs": [],
   "source": []
  },
  {
   "cell_type": "code",
   "execution_count": null,
   "metadata": {},
   "outputs": [],
   "source": []
  },
  {
   "cell_type": "code",
   "execution_count": null,
   "metadata": {},
   "outputs": [],
   "source": []
  },
  {
   "cell_type": "code",
   "execution_count": null,
   "metadata": {},
   "outputs": [],
   "source": []
  },
  {
   "cell_type": "code",
   "execution_count": null,
   "metadata": {},
   "outputs": [],
   "source": []
  },
  {
   "cell_type": "code",
   "execution_count": null,
   "metadata": {},
   "outputs": [],
   "source": []
  },
  {
   "cell_type": "code",
   "execution_count": null,
   "metadata": {},
   "outputs": [],
   "source": []
  },
  {
   "cell_type": "code",
   "execution_count": null,
   "metadata": {},
   "outputs": [],
   "source": []
  }
 ],
 "metadata": {
  "kernelspec": {
   "display_name": "Python 3",
   "language": "python",
   "name": "python3"
  },
  "language_info": {
   "codemirror_mode": {
    "name": "ipython",
    "version": 3
   },
   "file_extension": ".py",
   "mimetype": "text/x-python",
   "name": "python",
   "nbconvert_exporter": "python",
   "pygments_lexer": "ipython3",
   "version": "3.7.0"
  }
 },
 "nbformat": 4,
 "nbformat_minor": 2
}
